{
 "cells": [
  {
   "cell_type": "code",
   "execution_count": null,
   "metadata": {},
   "outputs": [],
   "source": [
    "def cartesian_to_spherical(x, y, z):\n",
    "    r = np.sqrt(x**2 + y**2 + z**2)\n",
    "    theta = np.arctan2(y, x)  # Azimuth\n",
    "    phi = np.arccos(z / r)    # Inclination\n",
    "    return r, theta, phi\n",
    "\n",
    "def spherical_to_cartesian(r, theta, phi):\n",
    "    x = r * np.sin(phi) * np.cos(theta)\n",
    "    y = r * np.sin(phi) * np.sin(theta)\n",
    "    z = r * np.cos(phi)\n",
    "    return x, y, z"
   ]
  },
  {
   "cell_type": "code",
   "execution_count": null,
   "metadata": {},
   "outputs": [],
   "source": [
    "def filter_large_jumps(df, max_stepsize=0.02, window_size=10):\n",
    "    # Calculate the step size for each frame\n",
    "    steps = np.sqrt(df['fishx'].diff()**2 + df['fishy'].diff()**2 + df['fishz'].diff()**2)\n",
    "    \n",
    "    # Identify large steps\n",
    "    large_steps = steps > max_stepsize\n",
    "    large_step_indices = large_steps[large_steps].index.values\n",
    "\n",
    "    # print first 5 large steps\n",
    "\n",
    "    print(f\"Found {len(large_step_indices)} large steps\")\n",
    "\n",
    "    # Filter out the large steps\n",
    "    for index in large_step_indices:\n",
    "        df.loc[index-window_size:index+window_size, ['fishz', 'fishy', 'fishx']] = np.nan\n",
    "\n",
    "    return df"
   ]
  },
  {
   "cell_type": "code",
   "execution_count": null,
   "metadata": {},
   "outputs": [],
   "source": [
    "def read_files(folder_path):\n",
    "    all_files = glob.glob(os.path.join(folder_path, \"*.csv.gz\"))\n",
    "    all_files = natsort.natsorted(all_files)  # Natural sort files\n",
    "\n",
    "    fish_data = {}\n",
    "\n",
    "    for file_path in all_files:\n",
    "        filename = os.path.basename(file_path)\n",
    "        fish_id, trial_id = filename.split('_')[0], filename.split('_')[1]\n",
    "\n",
    "        # Only process the first 3 trials for each fish\n",
    "        if fish_id not in fish_data:\n",
    "            fish_data[fish_id] = {}\n",
    "        if trial_id not in fish_data[fish_id] and len(fish_data[fish_id]) < 3:\n",
    "            fish_data[fish_id][trial_id] = file_path\n",
    "\n",
    "    # Debug: Print out the files being processed for each fish\n",
    "    for fish_id, trials in fish_data.items():\n",
    "        print(f\"Fish ID: {fish_id}, Trials: {list(trials.keys())}\")\n",
    "\n",
    "    return fish_data"
   ]
  },
  {
   "cell_type": "code",
   "execution_count": null,
   "metadata": {},
   "outputs": [],
   "source": [
    "def filter_spherical(df, err=0.005, z_offset=0.11):\n",
    "    # Convert to spherical coordinates\n",
    "    azimuth, elevation, R = cartesian_to_spherical(df['fishx'], df['fishy'], df['fishz'] - z_offset)\n",
    "\n",
    "    # Apply spherical filters\n",
    "    df.loc[R > 0.2 + err, ['fishz', 'fishy', 'fishx']] = np.nan\n",
    "    df.loc[R < 0.11 - err, ['fishz', 'fishy', 'fishx']] = np.nan\n",
    "\n",
    "    return df"
   ]
  },
  {
   "cell_type": "code",
   "execution_count": null,
   "metadata": {},
   "outputs": [],
   "source": [
    "def process_file(file_path, fHz=100):\n",
    "    # Load the data\n",
    "    desired_cols = ['realtime', 'fishx', 'fishy', 'fishz', 'start_time']\n",
    "    df = pd.read_csv(file_path, compression='gzip', usecols=desired_cols)#, nrows=2000)\n",
    "    \n",
    "    # Apply filters\n",
    "    df = filter_large_jumps(df)\n",
    "\n",
    "    # df = filter_spherical(df)\n",
    "\n",
    "    # Smooth the data using savgol_filter\n",
    "    df['smooth_fishx'] = savgol_filter(df['fishx'], 11, 1)\n",
    "    df['smooth_fishy'] = savgol_filter(df['fishy'], 11, 1)\n",
    "    df['smooth_fishz'] = savgol_filter(df['fishz'], 11, 1)\n",
    "\n",
    "    # Calculate the differences on the smoothed data\n",
    "    df['dx'] = df['smooth_fishx'].diff().fillna(0)\n",
    "    df['dy'] = df['smooth_fishy'].diff().fillna(0)\n",
    "    df['dz'] = df['smooth_fishz'].diff().fillna(0)\n",
    "    \n",
    "    df['velocity'] = np.sqrt(df['dx']**2 + df['dy']**2 + df['dz']**2) / (1/fHz)\n",
    "\n",
    "    #  add time_stamp column\n",
    "    df = calculate_time_stamp(df)\n",
    "\n",
    "    #  Call calculate_angles_at_peaks_efficient to get peaks and related calculations\n",
    "    df, peaks, peak_angles = calculate_angles_at_peaks_efficient(df, fHz)\n",
    "\n",
    "    # Center angles from -180 to 180 degrees and unwrap them\n",
    "    wrapped_angles = [(angle + 180) % 360 - 180 for angle in peak_angles]\n",
    "    unwrapped_angles = np.unwrap(np.radians(wrapped_angles))\n",
    "\n",
    "    # Calculate cumulative angles\n",
    "    cumulative_angles = np.cumsum(np.degrees(unwrapped_angles))\n",
    "\n",
    "    # print(df.tail())\n",
    "\n",
    "    # Other calculations such as interbout duration, turn bias, etc., are included in calculate_angles_at_peaks_efficient\n",
    "\n",
    "    return df, peaks, peak_angles, wrapped_angles, unwrapped_angles, cumulative_angles\n"
   ]
  }
 ],
 "metadata": {
  "language_info": {
   "name": "python"
  }
 },
 "nbformat": 4,
 "nbformat_minor": 2
}
