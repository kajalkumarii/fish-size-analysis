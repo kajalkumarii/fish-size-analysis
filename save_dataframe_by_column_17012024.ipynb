{
 "cells": [
  {
   "cell_type": "code",
   "execution_count": null,
   "metadata": {},
   "outputs": [],
   "source": [
    "from typing import List\n",
    "import pandas as pd\n",
    "import numpy as np\n",
    "import glob\n",
    "import matplotlib.pyplot as plt\n",
    "from scipy.signal import find_peaks\n",
    "import os\n",
    "import gzip\n",
    "from tqdm import tqdm\n",
    "import seaborn as sns\n",
    "import natsort\n",
    "from scipy.signal import savgol_filter\n",
    "import hashlib"
   ]
  },
  {
   "cell_type": "code",
   "execution_count": null,
   "metadata": {},
   "outputs": [],
   "source": [
    "# def create_df(folder_path):\n",
    "\n",
    "#     all_files = glob.glob(folder_path + \"/*.csv\")\n",
    "#     print(all_files)\n",
    "#     df = []\n",
    "\n",
    "#     for filename in tqdm(all_files):\n",
    "#         desired_cols = ['framenumber']#, 'real_fish_x', 'real_fish_y', 'real_fish_z']\n",
    "#         temp_df = pd.read_csv(filename, usecols=desired_cols)\n",
    "#         temp_df['filename'] = filename\n",
    "#         df.append(temp_df)\n",
    "\n",
    "#     combined_df = pd.concat(df, axis=0, ignore_index=True)\n",
    "\n",
    "#     return combined_df\n",
    "# df = create_df(folder_path)\n",
    "def read_files(folder_path):\n",
    "\n",
    "    all_files = glob.glob(os.path.join(folder_path + \"/*.csv\"))\n",
    "    all_files = natsort.natsorted(all_files[0:3])\n",
    "\n",
    "    fish_data_list = []\n",
    "\n",
    "    for file_path in tqdm(all_files):\n",
    "        filename = os.path.basename(file_path)\n",
    "        print(filename)\n",
    "\n",
    "        fish_data_list.append(file_path)\n",
    " \n",
    "    return fish_data_list\n",
    "def process_data(fish_data_list):\n",
    "    desired_cols = ['framenumber', 'real_fish_x', 'real_fish_y', 'real_fish_z']\n",
    "    fish_data = []\n",
    "\n",
    "    for file_path in tqdm(fish_data_list):\n",
    "        temp_df = pd.read_csv(file_path, usecols=desired_cols)\n",
    "        filename = os.path.basename(file_path)\n",
    "        temp_df['filename'] = filename\n",
    "        fish_data.append(temp_df)\n",
    "\n",
    "    fish_data = pd.concat(fish_data, axis=0, ignore_index=True)\n",
    "\n",
    "    return fish_data"
   ]
  },
  {
   "cell_type": "code",
   "execution_count": null,
   "metadata": {},
   "outputs": [],
   "source": [
    "frame_diff = filter_in_time(fish_df)"
   ]
  },
  {
   "cell_type": "code",
   "execution_count": null,
   "metadata": {},
   "outputs": [],
   "source": [
    "df.to_csv(\"C:/PhD/experiments/fish_experiments/FishSizeKinematics/processed_data/combined_df_fish_size_kin_frameNum_17012024.csv\", index=False)"
   ]
  },
  {
   "cell_type": "code",
   "execution_count": null,
   "metadata": {},
   "outputs": [],
   "source": [
    "fig= plt.figure()\n",
    "plt.scatter(plot_df['fish_sz'], plot_df['count_10_all'], 10, c='b', label='gap > 10', alpha=0.5)\n",
    "plt.xlabel('file number')\n",
    "plt.ylabel('fish size')\n",
    "plt.show()"
   ]
  },
  {
   "cell_type": "code",
   "execution_count": null,
   "metadata": {},
   "outputs": [],
   "source": [
    "fig= plt.figure()\n",
    "plt.scatter(plot_df['fish_sz'], plot_df['count_2_all'], 10, c='b', label='gap > 2', alpha=0.5)\n",
    "plt.scatter(plot_df['fish_sz'], plot_df['count_10_all'], 10, c='g', label='gap > 10', alpha=0.5)\n",
    "plt.legend(['2', '10'])\n",
    "plt.xlabel('fish size')\n",
    "plt.ylabel('tracking loss events')\n",
    "plt.show()"
   ]
  },
  {
   "cell_type": "code",
   "execution_count": null,
   "metadata": {},
   "outputs": [],
   "source": [
    "unique_sessions = plot_df['session'].unique()\n",
    "unique_fish = plot_df['fish_sz'].unique()"
   ]
  },
  {
   "cell_type": "code",
   "execution_count": null,
   "metadata": {},
   "outputs": [],
   "source": [
    "fish_by_session = plot_df.groupby(['session', 'fish_sz'])['count_2_all', 'count_10_all'].sum().reset_index()"
   ]
  },
  {
   "cell_type": "code",
   "execution_count": null,
   "metadata": {},
   "outputs": [],
   "source": [
    "# Plotting\n",
    "fig= plt.figure(figsize=(10, 6))\n",
    "sns.scatterplot(x='session', y='count_2_all', hue='fish_sz', data=fish_by_session)\n",
    "sns.lineplot(x='session', y='count_2_all', hue='fish_sz', data=fish_by_session)\n",
    "plt.title('Sum of Count 2 for Each Session and Fish Size')\n",
    "plt.legend(bbox_to_anchor=(1.05, 1), loc=2, borderaxespad=0.)\n",
    "plt.xlabel('Session')\n",
    "plt.ylabel('Sum of Count')\n",
    "plt.show()\n"
   ]
  },
  {
   "cell_type": "code",
   "execution_count": null,
   "metadata": {},
   "outputs": [],
   "source": [
    "# Plotting\n",
    "fig= plt.figure(figsize=(10, 6))\n",
    "sns.scatterplot(x='session', y='count_10_all', hue='fish_sz', data=fish_by_session)\n",
    "sns.lineplot(x='session', y='count_10_all', hue='fish_sz', data=fish_by_session)\n",
    "plt.title('Sum of Count 10 for Each Session and Fish Size')\n",
    "plt.legend(bbox_to_anchor=(1.05, 1), loc=2, borderaxespad=0.)\n",
    "plt.xlabel('Session')\n",
    "plt.ylabel('Sum of Count')\n",
    "plt.show()\n"
   ]
  }
 ],
 "metadata": {
  "kernelspec": {
   "display_name": "Python 3",
   "language": "python",
   "name": "python3"
  },
  "language_info": {
   "name": "python",
   "version": "3.8.10"
  }
 },
 "nbformat": 4,
 "nbformat_minor": 2
}
